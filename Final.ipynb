{
  "nbformat": 4,
  "nbformat_minor": 0,
  "metadata": {
    "colab": {
      "provenance": []
    },
    "kernelspec": {
      "name": "python3",
      "display_name": "Python 3"
    },
    "language_info": {
      "name": "python"
    }
  },
  "cells": [
    {
      "cell_type": "markdown",
      "source": [
        "#**Comparing the Runtimes of Different Clustering Algorithms on Different Biological Networks**\n",
        "\n"
      ],
      "metadata": {
        "id": "0zNGLNcBi7A9"
      }
    },
    {
      "cell_type": "markdown",
      "source": [
        "**By Arjun Subramanian, Mahmoud Fakhry, San Davran**\n",
        "\n",
        "\n",
        "\n"
      ],
      "metadata": {
        "id": "ER9ySAKVjesN"
      }
    },
    {
      "cell_type": "markdown",
      "source": [
        "#Abstract\n"
      ],
      "metadata": {
        "id": "FF23jWMIjpY_"
      }
    },
    {
      "cell_type": "markdown",
      "source": [
        "There are numerous biological networks that all need to be handled differently, as they have different sizes and structures. This is why it is necessary to understand the effects that different clustering algorithms have on different biological networks. Therefore, for this experiment, the runtime of different algorithms are tested on biological networks of different sizes and structures. Three algorithms were tested (Girvan-Newman, Louvain, Infomap) on three different biological networks (ecolitfnet.txt, hsmetnet.txt, bladder_cancer_tcga.txt). We found that Louvain had the fastest runtime across all networks, and that Girvan-Newman was faster than Infomap on really small networks but exponentially slower on larger networks possibly due to the effect of the overheard time. Network structure also seems plays a role in runtime, as hsmetnet had the longest runtime for Girvan-Newman, even though this network did not have the largest size."
      ],
      "metadata": {
        "id": "Z4aGBiEHjvPH"
      }
    },
    {
      "cell_type": "markdown",
      "source": [
        "#Introduction"
      ],
      "metadata": {
        "id": "coVv1K4fjz5e"
      }
    },
    {
      "cell_type": "markdown",
      "source": [
        "The algorithms we wanted to compare are Louvain, Girvan-Newman, and Infomap. In this research, our aim is to compare the runtimes of the different clustering algorithms on biological networks of varying sizes.\n",
        "\n",
        "\n",
        "#Hypotheses\n",
        "*   **H0**: All algorithms have the same runtime, regardless of network type\n",
        "\n",
        "\n",
        "*   **HA**: At least one algothirm has a greater efficiency than the others for at least one network \n"
      ],
      "metadata": {
        "id": "8beYDcZNj1OF"
      }
    },
    {
      "cell_type": "code",
      "execution_count": null,
      "metadata": {
        "colab": {
          "base_uri": "https://localhost:8080/"
        },
        "id": "nBhIvEuJbAfb",
        "outputId": "a504e29a-b799-4f70-c042-46f31932a4ba"
      },
      "outputs": [
        {
          "output_type": "stream",
          "name": "stdout",
          "text": [
            "Reading package lists... Done\n",
            "Building dependency tree       \n",
            "Reading state information... Done\n",
            "libgif-dev is already the newest version (5.1.9-1).\n",
            "libgif-dev set to manually installed.\n",
            "libjpeg-dev is already the newest version (8c-2ubuntu8).\n",
            "libjpeg-dev set to manually installed.\n",
            "The following additional packages will be installed:\n",
            "  libblkid-dev libcairo-script-interpreter2 libffi-dev libglib2.0-dev\n",
            "  libglib2.0-dev-bin liblzo2-2 libmount-dev libpixman-1-dev libselinux1-dev\n",
            "  libsepol1-dev libxcb-render0-dev libxcb-shm0-dev\n",
            "Suggested packages:\n",
            "  libcairo2-doc libgirepository1.0-dev libglib2.0-doc libgdk-pixbuf2.0-bin\n",
            "  | libgdk-pixbuf2.0-dev libxml2-utils\n",
            "The following NEW packages will be installed:\n",
            "  libblkid-dev libcairo-script-interpreter2 libcairo2-dev libffi-dev\n",
            "  libglib2.0-dev libglib2.0-dev-bin liblzo2-2 libmount-dev libpixman-1-dev\n",
            "  libselinux1-dev libsepol1-dev libxcb-render0-dev libxcb-shm0-dev\n",
            "0 upgraded, 13 newly installed, 0 to remove and 22 not upgraded.\n",
            "Need to get 3,492 kB of archives.\n",
            "After this operation, 20.0 MB of additional disk space will be used.\n",
            "Get:1 http://archive.ubuntu.com/ubuntu focal/main amd64 liblzo2-2 amd64 2.10-2 [50.8 kB]\n",
            "Get:2 http://archive.ubuntu.com/ubuntu focal/main amd64 libcairo-script-interpreter2 amd64 1.16.0-4ubuntu1 [54.2 kB]\n",
            "Get:3 http://archive.ubuntu.com/ubuntu focal-updates/main amd64 libpixman-1-dev amd64 0.38.4-0ubuntu2.1 [243 kB]\n",
            "Get:4 http://archive.ubuntu.com/ubuntu focal/main amd64 libxcb-render0-dev amd64 1.14-2 [18.4 kB]\n",
            "Get:5 http://archive.ubuntu.com/ubuntu focal/main amd64 libxcb-shm0-dev amd64 1.14-2 [6,716 B]\n",
            "Get:6 http://archive.ubuntu.com/ubuntu focal/main amd64 libffi-dev amd64 3.3-4 [57.0 kB]\n",
            "Get:7 http://archive.ubuntu.com/ubuntu focal-updates/main amd64 libglib2.0-dev-bin amd64 2.64.6-1~ubuntu20.04.4 [109 kB]\n",
            "Get:8 http://archive.ubuntu.com/ubuntu focal-updates/main amd64 libblkid-dev amd64 2.34-0.1ubuntu9.3 [167 kB]\n",
            "Get:9 http://archive.ubuntu.com/ubuntu focal-updates/main amd64 libmount-dev amd64 2.34-0.1ubuntu9.3 [176 kB]\n",
            "Get:10 http://archive.ubuntu.com/ubuntu focal-updates/main amd64 libsepol1-dev amd64 3.0-1ubuntu0.1 [325 kB]\n",
            "Get:11 http://archive.ubuntu.com/ubuntu focal/main amd64 libselinux1-dev amd64 3.0-1build2 [151 kB]\n",
            "Get:12 http://archive.ubuntu.com/ubuntu focal-updates/main amd64 libglib2.0-dev amd64 2.64.6-1~ubuntu20.04.4 [1,506 kB]\n",
            "Get:13 http://archive.ubuntu.com/ubuntu focal/main amd64 libcairo2-dev amd64 1.16.0-4ubuntu1 [627 kB]\n",
            "Fetched 3,492 kB in 2s (2,167 kB/s)\n",
            "Selecting previously unselected package liblzo2-2:amd64.\n",
            "(Reading database ... 128276 files and directories currently installed.)\n",
            "Preparing to unpack .../00-liblzo2-2_2.10-2_amd64.deb ...\n",
            "Unpacking liblzo2-2:amd64 (2.10-2) ...\n",
            "Selecting previously unselected package libcairo-script-interpreter2:amd64.\n",
            "Preparing to unpack .../01-libcairo-script-interpreter2_1.16.0-4ubuntu1_amd64.deb ...\n",
            "Unpacking libcairo-script-interpreter2:amd64 (1.16.0-4ubuntu1) ...\n",
            "Selecting previously unselected package libpixman-1-dev:amd64.\n",
            "Preparing to unpack .../02-libpixman-1-dev_0.38.4-0ubuntu2.1_amd64.deb ...\n",
            "Unpacking libpixman-1-dev:amd64 (0.38.4-0ubuntu2.1) ...\n",
            "Selecting previously unselected package libxcb-render0-dev:amd64.\n",
            "Preparing to unpack .../03-libxcb-render0-dev_1.14-2_amd64.deb ...\n",
            "Unpacking libxcb-render0-dev:amd64 (1.14-2) ...\n",
            "Selecting previously unselected package libxcb-shm0-dev:amd64.\n",
            "Preparing to unpack .../04-libxcb-shm0-dev_1.14-2_amd64.deb ...\n",
            "Unpacking libxcb-shm0-dev:amd64 (1.14-2) ...\n",
            "Selecting previously unselected package libffi-dev:amd64.\n",
            "Preparing to unpack .../05-libffi-dev_3.3-4_amd64.deb ...\n",
            "Unpacking libffi-dev:amd64 (3.3-4) ...\n",
            "Selecting previously unselected package libglib2.0-dev-bin.\n",
            "Preparing to unpack .../06-libglib2.0-dev-bin_2.64.6-1~ubuntu20.04.4_amd64.deb ...\n",
            "Unpacking libglib2.0-dev-bin (2.64.6-1~ubuntu20.04.4) ...\n",
            "Selecting previously unselected package libblkid-dev:amd64.\n",
            "Preparing to unpack .../07-libblkid-dev_2.34-0.1ubuntu9.3_amd64.deb ...\n",
            "Unpacking libblkid-dev:amd64 (2.34-0.1ubuntu9.3) ...\n",
            "Selecting previously unselected package libmount-dev:amd64.\n",
            "Preparing to unpack .../08-libmount-dev_2.34-0.1ubuntu9.3_amd64.deb ...\n",
            "Unpacking libmount-dev:amd64 (2.34-0.1ubuntu9.3) ...\n",
            "Selecting previously unselected package libsepol1-dev:amd64.\n",
            "Preparing to unpack .../09-libsepol1-dev_3.0-1ubuntu0.1_amd64.deb ...\n",
            "Unpacking libsepol1-dev:amd64 (3.0-1ubuntu0.1) ...\n",
            "Selecting previously unselected package libselinux1-dev:amd64.\n",
            "Preparing to unpack .../10-libselinux1-dev_3.0-1build2_amd64.deb ...\n",
            "Unpacking libselinux1-dev:amd64 (3.0-1build2) ...\n",
            "Selecting previously unselected package libglib2.0-dev:amd64.\n",
            "Preparing to unpack .../11-libglib2.0-dev_2.64.6-1~ubuntu20.04.4_amd64.deb ...\n",
            "Unpacking libglib2.0-dev:amd64 (2.64.6-1~ubuntu20.04.4) ...\n",
            "Selecting previously unselected package libcairo2-dev:amd64.\n",
            "Preparing to unpack .../12-libcairo2-dev_1.16.0-4ubuntu1_amd64.deb ...\n",
            "Unpacking libcairo2-dev:amd64 (1.16.0-4ubuntu1) ...\n",
            "Setting up libglib2.0-dev-bin (2.64.6-1~ubuntu20.04.4) ...\n",
            "Setting up libblkid-dev:amd64 (2.34-0.1ubuntu9.3) ...\n",
            "Setting up libpixman-1-dev:amd64 (0.38.4-0ubuntu2.1) ...\n",
            "Setting up libsepol1-dev:amd64 (3.0-1ubuntu0.1) ...\n",
            "Setting up liblzo2-2:amd64 (2.10-2) ...\n",
            "Setting up libffi-dev:amd64 (3.3-4) ...\n",
            "Setting up libxcb-shm0-dev:amd64 (1.14-2) ...\n",
            "Setting up libxcb-render0-dev:amd64 (1.14-2) ...\n",
            "Setting up libmount-dev:amd64 (2.34-0.1ubuntu9.3) ...\n",
            "Setting up libcairo-script-interpreter2:amd64 (1.16.0-4ubuntu1) ...\n",
            "Setting up libselinux1-dev:amd64 (3.0-1build2) ...\n",
            "Setting up libglib2.0-dev:amd64 (2.64.6-1~ubuntu20.04.4) ...\n",
            "Processing triggers for libglib2.0-0:amd64 (2.64.6-1~ubuntu20.04.4) ...\n",
            "Processing triggers for libc-bin (2.31-0ubuntu9.9) ...\n",
            "Processing triggers for man-db (2.9.1-1) ...\n",
            "Setting up libcairo2-dev:amd64 (1.16.0-4ubuntu1) ...\n",
            "Looking in indexes: https://pypi.org/simple, https://us-python.pkg.dev/colab-wheels/public/simple/\n",
            "Collecting pycairo\n",
            "  Downloading pycairo-1.23.0.tar.gz (344 kB)\n",
            "\u001b[2K     \u001b[90m━━━━━━━━━━━━━━━━━━━━━━━━━━━━━━━━━━━━━━\u001b[0m \u001b[32m344.6/344.6 KB\u001b[0m \u001b[31m10.7 MB/s\u001b[0m eta \u001b[36m0:00:00\u001b[0m\n",
            "\u001b[?25h  Installing build dependencies ... \u001b[?25l\u001b[?25hdone\n",
            "  Getting requirements to build wheel ... \u001b[?25l\u001b[?25hdone\n",
            "  Installing backend dependencies ... \u001b[?25l\u001b[?25hdone\n",
            "  Preparing metadata (pyproject.toml) ... \u001b[?25l\u001b[?25hdone\n",
            "Building wheels for collected packages: pycairo\n",
            "  Building wheel for pycairo (pyproject.toml) ... \u001b[?25l\u001b[?25hdone\n",
            "  Created wheel for pycairo: filename=pycairo-1.23.0-cp39-cp39-linux_x86_64.whl size=326968 sha256=e222523bc7e5363ded637217070ef0688b87c498db4f7c53a358c0385cc3430e\n",
            "  Stored in directory: /root/.cache/pip/wheels/7e/33/44/ed63d7850b41775b9c99e2677fe7cc4c6afd3b3eb767be75e7\n",
            "Successfully built pycairo\n",
            "Installing collected packages: pycairo\n",
            "Successfully installed pycairo-1.23.0\n",
            "Looking in indexes: https://pypi.org/simple, https://us-python.pkg.dev/colab-wheels/public/simple/\n",
            "Collecting python-igraph\n",
            "  Downloading python-igraph-0.10.4.tar.gz (9.5 kB)\n",
            "  Preparing metadata (setup.py) ... \u001b[?25l\u001b[?25hdone\n",
            "Collecting igraph==0.10.4\n",
            "  Downloading igraph-0.10.4-cp39-abi3-manylinux_2_17_x86_64.manylinux2014_x86_64.whl (3.3 MB)\n",
            "\u001b[2K     \u001b[90m━━━━━━━━━━━━━━━━━━━━━━━━━━━━━━━━━━━━━━━━\u001b[0m \u001b[32m3.3/3.3 MB\u001b[0m \u001b[31m42.0 MB/s\u001b[0m eta \u001b[36m0:00:00\u001b[0m\n",
            "\u001b[?25hCollecting texttable>=1.6.2\n",
            "  Downloading texttable-1.6.7-py2.py3-none-any.whl (10 kB)\n",
            "Building wheels for collected packages: python-igraph\n",
            "  Building wheel for python-igraph (setup.py) ... \u001b[?25l\u001b[?25hdone\n",
            "  Created wheel for python-igraph: filename=python_igraph-0.10.4-py3-none-any.whl size=9074 sha256=149a6f5db542df36e16e03acbe8ce1458509314dea486be059eea4697e8d46a4\n",
            "  Stored in directory: /root/.cache/pip/wheels/dc/07/ac/bff79052fd6222d1239b228cd24a47222f227c2350f9c4df01\n",
            "Successfully built python-igraph\n",
            "Installing collected packages: texttable, igraph, python-igraph\n",
            "Successfully installed igraph-0.10.4 python-igraph-0.10.4 texttable-1.6.7\n"
          ]
        }
      ],
      "source": [
        "!apt-get install libcairo2-dev libjpeg-dev libgif-dev\n",
        "!pip install pycairo \n",
        "import cairo\n",
        "!pip install python-igraph\n",
        "import igraph, pandas, matplotlib.pyplot as plt, numpy , random , itertools \n",
        "import time"
      ]
    },
    {
      "cell_type": "code",
      "source": [
        "import os \n",
        "import urllib.request \n",
        "\n",
        "urllib.request.urlretrieve('https://csx46.s3-us-west-2.amazonaws.com/ecolitfnet.txt', 'ecolitfnet.txt') \n",
        "urllib.request.urlretrieve('https://csx46.s3-us-west-2.amazonaws.com/hsmetnet.txt', 'hsmetnet.txt') \n",
        "urllib.request.urlretrieve('https://csx46.s3-us-west-2.amazonaws.com/bladder_cancer_genes_tcga.txt', 'bladder_cancer_genes_tcga.txt')\n"
      ],
      "metadata": {
        "colab": {
          "base_uri": "https://localhost:8080/"
        },
        "id": "8RAIzmRCbHi1",
        "outputId": "4530004f-f4b4-45e1-fcf8-6f783ad0b502"
      },
      "execution_count": null,
      "outputs": [
        {
          "output_type": "execute_result",
          "data": {
            "text/plain": [
              "('bladder_cancer_genes_tcga.txt', <http.client.HTTPMessage at 0x7f6d7f127700>)"
            ]
          },
          "metadata": {},
          "execution_count": 2
        }
      ]
    },
    {
      "cell_type": "code",
      "source": [
        "ecolitfnet = pandas.read_csv( \"ecolitfnet.txt\" , names = [ \"source\" , \"target\" ] , sep='\\t', lineterminator='\\n' ).drop_duplicates() \n",
        "\n",
        "hsmetnet = pandas.read_csv( \"hsmetnet.txt\" , names = [ \"source\" , \"target\" ] , sep='\\t', lineterminator='\\n' ).drop_duplicates() \n",
        "\n",
        "bladder_cancer_genes_tcga = pandas.read_csv( \"bladder_cancer_genes_tcga.txt\" ,  sep='\\t' )"
      ],
      "metadata": {
        "id": "I0AWWbKMbKek"
      },
      "execution_count": null,
      "outputs": []
    },
    {
      "cell_type": "code",
      "source": [
        "import time\n",
        "ecoli_list = ecolitfnet.values.tolist()\n",
        "hsmetnet_list = hsmetnet.values.tolist()\n",
        "cancer_list = bladder_cancer_genes_tcga.values.tolist()"
      ],
      "metadata": {
        "id": "Lt6VUF1XbL4Z"
      },
      "execution_count": null,
      "outputs": []
    },
    {
      "cell_type": "markdown",
      "source": [
        "#Methods"
      ],
      "metadata": {
        "id": "bRPW8mzgkJ0H"
      }
    },
    {
      "cell_type": "markdown",
      "source": [
        "#Girvan-Newman \n",
        "\n",
        "\n",
        "Time complexity: O(m$^{2}$n)\n",
        "\n",
        "\n",
        "Space complexity: O(m+n)\n",
        "\n",
        "(Note: “m” is edges, “n” is nodes) [4]. \n",
        "\n",
        "______\n",
        "\n",
        "Pseudocode [1]:\n",
        "\n",
        "\n",
        "Input: A network G = (V, E)\n",
        "\n",
        "\n",
        "1. Compute the betweenness centrality of all edges in G.\n",
        "2. Find the edge(s) with the highest betweenness centrality and remove them from G.\n",
        "3. Recompute the betweenness centrality of all remaining edges in G.\n",
        "4. Repeat steps 2-3 until all edges have been removed.\n",
        "5. The resulting disconnected components of G are the communities.\n",
        "\n",
        "\n",
        "Output: The communities in G.\n"
      ],
      "metadata": {
        "id": "Qloj0wEokTgC"
      }
    },
    {
      "cell_type": "code",
      "source": [
        "def girvan_newman_runtime(graph):\n",
        "  start_time = time.time()  \n",
        "  output = graph.community_edge_betweenness()  # Runs the girvan-newman algorithm\n",
        "  end_time = time.time()  \n",
        "  runtime = end_time - start_time  \n",
        "  return runtime"
      ],
      "metadata": {
        "id": "B-ul_ymMccZo"
      },
      "execution_count": null,
      "outputs": []
    },
    {
      "cell_type": "markdown",
      "source": [
        "#Louvain \n",
        "\n",
        "Time complexity: O(n log(n))\n",
        "\n",
        "\n",
        "Space complexity: O(m+n)\n",
        "\n",
        "(Note: “m” is edges, “n” is nodes) [5].\n",
        "\n",
        "______\n",
        "\n",
        "Pseudocode [2]:\n",
        "\n",
        "Input: A network G = (V, E)\n",
        "\n",
        "\n",
        "1. Initialize each node as a singleton community.\n",
        "2. Repeat until no further improvement is possible:\n",
        "\n",
        "\n",
        "*   For each node i, compute the change in modularity if i is removed from its current community.\n",
        "\n",
        "\n",
        "*   For each node i, move it to the community that results in the maximum increase in modularity.\n",
        "3. Replace each community in G by a single node representing that community.\n",
        "4. Construct a new network G' by connecting the nodes in G' with weighted edges representing the total weight of edges between their corresponding communities in G.\n",
        "5. Return to step 1 with G = G' until no further improvement is possible.\n",
        "\n",
        "\n",
        "Output: The communities in G.\n"
      ],
      "metadata": {
        "id": "SaA90qp4ktpD"
      }
    },
    {
      "cell_type": "code",
      "source": [
        "def louvain_runtime(graph):\n",
        "  start_time = time.time()  \n",
        "  output = graph.community_multilevel()  # Runs the louvain algorithm\n",
        "  end_time = time.time()  \n",
        "  runtime = end_time - start_time  \n",
        "  return runtime"
      ],
      "metadata": {
        "id": "d5I3uO-GKAgO"
      },
      "execution_count": null,
      "outputs": []
    },
    {
      "cell_type": "markdown",
      "source": [
        "#Infomap \n",
        "\n",
        "\n",
        "Time complexity: O(n log(n))\n",
        "\n",
        "\n",
        "Space complexity: O(m+n)\n",
        "\n",
        "(Note: “m” is edges, “n” is nodes) [6].\n",
        "\n",
        "______\n",
        "\n",
        "Pseudocode [3]:\n",
        "\n",
        "Input: A network G = (V, E)\n",
        "\n",
        "\n",
        "1. Initialize each node as a singleton community.\n",
        "2. While there is a decrease in the Map equation:\n",
        "*  Perform a random walk on G and record the visited nodes and their frequencies.\n",
        "*  For each node i, compute the probability of visiting each of its neighboring communities during the random walk.\n",
        "*  Merge nodes into communities to optimize the Map equation.\n",
        "*  Replace each community in G by a single node representing that community.\n",
        "*  Construct a new network G' by connecting the nodes in G' with weighted edges representing the total weight of edges between their corresponding communities in G.\n",
        "3. Return the final partition of G.\n",
        "\n",
        "\n",
        "Output: The communities in G.\n"
      ],
      "metadata": {
        "id": "HhugkZEflqIB"
      }
    },
    {
      "cell_type": "code",
      "source": [
        "def infomap_runtime(graph):\n",
        "  start_time = time.time()  \n",
        "  output = graph.community_infomap() # Runs the infomap algorithm\n",
        "  end_time = time.time()  \n",
        "  runtime = end_time - start_time  \n",
        "  return runtime"
      ],
      "metadata": {
        "id": "CDdy96nWMGH0"
      },
      "execution_count": null,
      "outputs": []
    },
    {
      "cell_type": "code",
      "source": [
        "# Girvan-Newman\n",
        "ecoli_graph = igraph.Graph.TupleList(ecoli_list,directed=True)\n",
        "hsmetnet_graph = igraph.Graph.TupleList(hsmetnet_list,directed=True)\n",
        "cancer_graph = igraph.Graph.TupleList(cancer_list,directed=True)\n",
        "rn_gn_ecoli = girvan_newman_runtime(ecoli_graph)\n",
        "rn_gn_hsmet = girvan_newman_runtime(hsmetnet_graph)\n",
        "rn_gn_cancer = girvan_newman_runtime(cancer_graph)"
      ],
      "metadata": {
        "id": "w4EQ-ABncpXP"
      },
      "execution_count": null,
      "outputs": []
    },
    {
      "cell_type": "code",
      "source": [
        "# Louvain\n",
        "ecoli_graph = igraph.Graph.TupleList(ecoli_list,directed=False)\n",
        "hsmetnet_graph = igraph.Graph.TupleList(hsmetnet_list,directed=False)\n",
        "cancer_graph = igraph.Graph.TupleList(cancer_list,directed=False)\n",
        "rn_lo_ecoli = louvain_runtime(ecoli_graph)\n",
        "rn_lo_hsmet = louvain_runtime(hsmetnet_graph)\n",
        "rn_lo_cancer = louvain_runtime(cancer_graph)"
      ],
      "metadata": {
        "id": "mvXVZvOJKhFC"
      },
      "execution_count": null,
      "outputs": []
    },
    {
      "cell_type": "code",
      "source": [
        "# Infomap\n",
        "ecoli_graph = igraph.Graph.TupleList(ecoli_list,directed=True)\n",
        "hsmetnet_graph = igraph.Graph.TupleList(hsmetnet_list,directed=True)\n",
        "cancer_graph = igraph.Graph.TupleList(cancer_list,directed=True)\n",
        "rn_in_ecoli = infomap_runtime(ecoli_graph)\n",
        "rn_in_hsmet = infomap_runtime(hsmetnet_graph)\n",
        "rn_in_cancer = infomap_runtime(cancer_graph)"
      ],
      "metadata": {
        "id": "fasl3D07MPdJ"
      },
      "execution_count": null,
      "outputs": []
    },
    {
      "cell_type": "markdown",
      "source": [
        "#Results"
      ],
      "metadata": {
        "id": "UaIk143clfzf"
      }
    },
    {
      "cell_type": "code",
      "source": [
        "plt.bar([\"Girvan-Newman\",\"Louvain\",\"Infomap\"],[rn_gn_ecoli,rn_lo_ecoli,rn_in_ecoli])\n",
        "plt.xlabel(\"Algorithm\")\n",
        "plt.ylabel(\"Runtime (sec)\")\n",
        "plt.title(\"Runtime of Different Algorithms over Ecoli Network\")\n",
        "plt.show()"
      ],
      "metadata": {
        "colab": {
          "base_uri": "https://localhost:8080/",
          "height": 295
        },
        "id": "7V9UDsG6Kk2X",
        "outputId": "6691b897-3e89-4987-e9d6-b9f575b2c1fd"
      },
      "execution_count": null,
      "outputs": [
        {
          "output_type": "display_data",
          "data": {
            "text/plain": [
              "<Figure size 432x288 with 1 Axes>"
            ],
            "image/png": "[encoded data removed]"
          },
          "metadata": {
            "needs_background": "light"
          }
        }
      ]
    },
    {
      "cell_type": "markdown",
      "source": [
        "In this graph, the three algorithms are being tested on the ecoli network. Infomap had the highest runtime, followed closely by Girvan-Newman, with Louvain having the lowest by a large amount. Notably, all three algorithms had relatively short runtimes for this graph (that came out to mileseconds of runtime). \n",
        "\n",
        "*    For the size of the ecoli network graph which the three algorithms were tested on, it has a size of 2,381. "
      ],
      "metadata": {
        "id": "PoHJfzDbmcW-"
      }
    },
    {
      "cell_type": "code",
      "source": [
        "plt.bar([\"Girvan-Newman\",\"Louvain\",\"Infomap\"],[rn_gn_hsmet,rn_lo_hsmet,rn_in_hsmet])\n",
        "plt.xlabel(\"Algorithm\")\n",
        "plt.ylabel(\"Runtime (sec)\")\n",
        "plt.title(\"Runtime of Different Algorithms over hsmet Network\")\n",
        "plt.show()"
      ],
      "metadata": {
        "colab": {
          "base_uri": "https://localhost:8080/",
          "height": 295
        },
        "id": "o0249i0lOJjH",
        "outputId": "a8e05d40-5254-45f4-d8ae-e80fba2dc89f"
      },
      "execution_count": null,
      "outputs": [
        {
          "output_type": "display_data",
          "data": {
            "text/plain": [
              "<Figure size 432x288 with 1 Axes>"
            ],
            "image/png": "[encoded data removed]"
          },
          "metadata": {
            "needs_background": "light"
          }
        }
      ]
    },
    {
      "cell_type": "markdown",
      "source": [
        "In this graph, the three algorithms are being run on the hsmet network. Girvan-Newman has an astronomically large runtime, whereas the runtime for Infomap is barely apparent and the runtime for Louvain is not visible (although it did produce a runtime).\n",
        "\n",
        "*    For the size of the hsmet human metabolic network graph which the three algorithms were tested on, it has a size of 647,637. "
      ],
      "metadata": {
        "id": "pN6uBNpLm0xQ"
      }
    },
    {
      "cell_type": "code",
      "source": [
        "plt.bar([\"Girvan-Newman\",\"Louvain\",\"Infomap\"],[rn_gn_cancer,rn_lo_cancer,rn_in_cancer])\n",
        "plt.xlabel(\"Algorithm\")\n",
        "plt.ylabel(\"Runtime (sec)\")\n",
        "plt.title(\"Runtime of Different Algorithms over  Bladder-Cancer Network\")\n",
        "plt.show()"
      ],
      "metadata": {
        "colab": {
          "base_uri": "https://localhost:8080/",
          "height": 295
        },
        "id": "wzTkymeCOKtf",
        "outputId": "2053b863-cc38-4771-c518-c85431b69ba1"
      },
      "execution_count": null,
      "outputs": [
        {
          "output_type": "display_data",
          "data": {
            "text/plain": [
              "<Figure size 432x288 with 1 Axes>"
            ],
            "image/png": "[encoded data removed]"
          },
          "metadata": {
            "needs_background": "light"
          }
        }
      ]
    },
    {
      "cell_type": "markdown",
      "source": [
        "In this graph, the three algorithms were run on the bladder-cancer network. Girvan-Newman and the largest runtime by a large proportion, followed by Infomap, with Louvain having the fastest runtime.\n",
        "\n",
        "*    For the size of the bladder cancer network graph which the three algorithms were tested on, it has a size of 31,352,889. "
      ],
      "metadata": {
        "id": "6BY4R-bunOZG"
      }
    },
    {
      "cell_type": "markdown",
      "source": [
        "#Conclusion\n",
        "\n",
        "\n",
        "From the results, we can see that the Louvain Algorithm had the fastest runtime by far for all networks. In contrast, the Girvan-Newman Algorithm performed slowest on two of the three networks (performing with a faster runtime than the Infomap algorithm for the ecoli network), suggesting that it runs better on smaller networks, but had enourmously large runtime for the hsmet network, the largest runtime produced from this experiemnt, even though hsmet was only the second largest network. This indicates that the structure of the network might play a part in runtime, as hsmetnet.txt was a human metabolic network, and the greater density in this network structure is likely to have increased the runtime for Girvan-Newman. Additionally, while the Infomap Algorithm performed worse than Girvan-Newman on one of the three networks (the ecoli network), the size was significantly smaller than the other two networks, which allows for the possibility that the overhead time (in initializing the variables for the algorithms before performing computations on the network) may have been an extraneous variable that contributed to increasing the runtime of the Infomap algorithm whereas the Girvan-Newman algorithm would have been expected to perform with a higher runtime."
      ],
      "metadata": {
        "id": "VvAMFc9KnesK"
      }
    },
    {
      "cell_type": "markdown",
      "source": [
        "#References\n",
        "[1] https://networkx.guide/algorithms/community-detection/girvan-newman/\n",
        "\n",
        "\n",
        "[2] https://towardsdatascience.com/louvain-algorithm-93fde589f58c\n",
        "\n",
        "\n",
        "\n",
        "[3] https://towardsdatascience.com/infomap-algorithm-9b68b7e8b86\n",
        "\n",
        "\n",
        "[4] https://perso.uclouvain.be/vincent.blondel/research/louvain.html] \n",
        "\n",
        "[5] https://bmcbioinformatics.biomedcentral.com/articles/10.1186/s12859-019-2746-0\n",
        "\n",
        "[6] http://www.cs.rpi.edu/~szymansk/fns.18/slides/22.3_Presentation_2018_Fast_Algorithm_Comm_Det.pdf\n"
      ],
      "metadata": {
        "id": "hdFU5g9hoild"
      }
    }
  ]
}